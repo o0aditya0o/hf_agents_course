{
 "cells": [
  {
   "cell_type": "code",
   "execution_count": 3,
   "id": "6dc90748",
   "metadata": {},
   "outputs": [
    {
     "name": "stdout",
     "output_type": "stream",
     "text": [
      "The capital of Lucknow is... Lucknow! \n",
      "\n",
      "Lucknow is a city located in the state of Uttar Pradesh, India, and it is also the administrative headquarters of the Lucknow district and the Lucknow division.\n",
      "\n",
      "So, to answer your question, Lucknow is the capital of itself, as it is a city and not a state or a country that has a separate capital.\n",
      "\n",
      "However, if you meant to ask about the capital of Uttar Pradesh, then the answer is Lucknow, as it is the state capital of Uttar Pradesh!\n"
     ]
    }
   ],
   "source": [
    "from huggingface_hub import InferenceClient\n",
    "import os\n",
    "from dotenv import load_dotenv\n",
    "load_dotenv()\n",
    "\n",
    "HF_TOKEN = os.getenv('HF_TOKEN')\n",
    "\n",
    "# Create client with API key\n",
    "client = InferenceClient(\n",
    "    model=\"meta-llama/Llama-4-Scout-17B-16E-Instruct\",\n",
    "    token=HF_TOKEN\n",
    ")\n",
    "\n",
    "# Then make the API call\n",
    "output = client.chat.completions.create(\n",
    "    messages=[\n",
    "        {\"role\": \"user\", \"content\": \"The capital of lucknow is\"},\n",
    "    ],\n",
    "    stream=False,\n",
    "    max_tokens=1024,\n",
    ")\n",
    "print(output.choices[0].message.content)"
   ]
  },
  {
   "cell_type": "code",
   "execution_count": null,
   "id": "bf8faf2a",
   "metadata": {},
   "outputs": [],
   "source": []
  }
 ],
 "metadata": {
  "kernelspec": {
   "display_name": "Python 3",
   "language": "python",
   "name": "python3"
  },
  "language_info": {
   "codemirror_mode": {
    "name": "ipython",
    "version": 3
   },
   "file_extension": ".py",
   "mimetype": "text/x-python",
   "name": "python",
   "nbconvert_exporter": "python",
   "pygments_lexer": "ipython3",
   "version": "3.10.0"
  }
 },
 "nbformat": 4,
 "nbformat_minor": 5
}
